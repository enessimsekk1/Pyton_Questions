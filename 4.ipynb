{
  "nbformat": 4,
  "nbformat_minor": 0,
  "metadata": {
    "colab": {
      "name": "4.ipynb",
      "provenance": [],
      "collapsed_sections": []
    },
    "kernelspec": {
      "name": "python3",
      "display_name": "Python 3"
    },
    "language_info": {
      "name": "python"
    }
  },
  "cells": [
    {
      "cell_type": "markdown",
      "metadata": {
        "id": "SB2LInTx7gf9"
      },
      "source": [
        "This problem was asked by Google.\n",
        "\n",
        "Given two singly linked lists that intersect at some point, find the intersecting node. The lists are non-cyclical.\n",
        "\n",
        "For example, given A = 3 -> 7 -> 8 -> 10 and B = 99 -> 1 -> 8 -> 10, return the node with value 8.\n",
        "\n",
        "In this example, assume nodes with the same value are the exact same node objects.\n",
        "\n",
        "Do this in O(M + N) time (where M and N are the lengths of the lists) and constant space."
      ]
    },
    {
      "cell_type": "code",
      "metadata": {
        "id": "j5Gas2yC7iQG"
      },
      "source": [
        "class Node:\n",
        "    def __init__(self, x):\n",
        "        self.val = x\n",
        "        self.next = None\n",
        "\n",
        "    def __str__(self):\n",
        "        string = \"[\"\n",
        "        node = self\n",
        "        while node:\n",
        "            string += \"{} ->\".format(node.val)\n",
        "            node = node.next\n",
        "        string += \"None]\"\n",
        "        return string\n",
        "\n",
        "\n",
        "def get_nodes(values):\n",
        "    next_node = None\n",
        "    for value in values[::-1]:\n",
        "        node = Node(value)\n",
        "        node.next = next_node\n",
        "        next_node = node\n",
        "\n",
        "    return next_node\n",
        "\n",
        "\n",
        "def get_list(head):\n",
        "    node = head\n",
        "    nodes = list()\n",
        "    while node:\n",
        "        nodes.append(node.val)\n",
        "        node = node.next\n",
        "    return nodes\n",
        "\n",
        "\n",
        "def get_intersection_node(list_a, list_b):\n",
        "\n",
        "    def get_list_length(linked_list):\n",
        "        length = 0\n",
        "        node = linked_list\n",
        "        while node:\n",
        "            length += 1\n",
        "            node = node.next\n",
        "\n",
        "        return length\n",
        "\n",
        "    len_a, len_b = get_list_length(list_a), get_list_length(list_b)\n",
        "    min_len = min(len_a, len_b)\n",
        "\n",
        "    for _ in range(len_a - min_len):\n",
        "        list_a = list_a.next\n",
        "    for _ in range(len_b - min_len):\n",
        "        list_b = list_b.next\n",
        "\n",
        "    node_a = list_a\n",
        "    node_b = list_b\n",
        "    for _ in range(min_len):\n",
        "        if node_a.val == node_b.val:\n",
        "            return node_a\n",
        "        node_a = node_a.next\n",
        "        node_b = node_b.next\n",
        "\n",
        "    return None\n",
        "\n",
        "\n",
        "assert not get_intersection_node(\n",
        "    get_nodes([]), get_nodes([]))\n",
        "assert get_intersection_node(\n",
        "    get_nodes([0, 3, 7, 8, 10]), get_nodes([99, 1, 8, 10])).val == 8\n",
        "assert get_intersection_node(\n",
        "    get_nodes([7, 8, 10]), get_nodes([99, 1, 8, 10])).val == 8"
      ],
      "execution_count": 1,
      "outputs": []
    }
  ]
}