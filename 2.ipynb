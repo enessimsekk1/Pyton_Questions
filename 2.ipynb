{
  "nbformat": 4,
  "nbformat_minor": 0,
  "metadata": {
    "colab": {
      "name": "2.ipynb",
      "provenance": [],
      "collapsed_sections": []
    },
    "kernelspec": {
      "name": "python3",
      "display_name": "Python 3"
    },
    "language_info": {
      "name": "python"
    }
  },
  "cells": [
    {
      "cell_type": "markdown",
      "metadata": {
        "id": "5Q1R0Fwihkzt"
      },
      "source": [
        "This problem was asked by Uber.\n",
        "\n",
        "Given an array of integers, return a new array such that each element at index i of the new array is the product of all the numbers in the original array except the one at i.\n",
        "\n",
        "For example, if our input was [1, 2, 3, 4, 5], the expected output would be [120, 60, 40, 30, 24]. If our input was [3, 2, 1], the expected output would be [2, 3, 6]."
      ]
    },
    {
      "cell_type": "code",
      "metadata": {
        "colab": {
          "base_uri": "https://localhost:8080/"
        },
        "id": "9pqJnhKhmAeN",
        "outputId": "391e693b-0527-4d70-b5e7-5b292f9b4dfe"
      },
      "source": [
        "given_list = [1, 2, 3, 4, 5]\n",
        "\n",
        "def compute(a_list):\n",
        "    new_list = []\n",
        "\n",
        "    for index, value in enumerate(a_list):\n",
        "        original_list = a_list\n",
        "        original_int = original_list[index]\n",
        "        original_list[index] = 1\n",
        "\n",
        "        result = 1\n",
        "        for x in original_list:\n",
        "            result = result * x\n",
        "\n",
        "        new_list.append(result)\n",
        "\n",
        "        original_list[index] = original_int\n",
        "\n",
        "    return new_list\n",
        "\n",
        "r = compute(given_list)\n",
        "print(r)"
      ],
      "execution_count": 1,
      "outputs": [
        {
          "output_type": "stream",
          "name": "stdout",
          "text": [
            "[120, 60, 40, 30, 24]\n"
          ]
        }
      ]
    }
  ]
}