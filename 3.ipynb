{
  "nbformat": 4,
  "nbformat_minor": 0,
  "metadata": {
    "colab": {
      "name": "3.ipynb",
      "provenance": [],
      "collapsed_sections": []
    },
    "kernelspec": {
      "name": "python3",
      "display_name": "Python 3"
    },
    "language_info": {
      "name": "python"
    }
  },
  "cells": [
    {
      "cell_type": "markdown",
      "metadata": {
        "id": "7pbnqrHywb56"
      },
      "source": [
        "This problem was asked by Twitter.\n",
        "\n",
        "You run an e-commerce website and want to record the last N order ids in a log. Implement a data structure to accomplish this, with the following API:\n",
        "\n",
        "record(order_id): adds the order_id to the log\n",
        "get_last(i): gets the ith last element from the log. i is guaranteed to be smaller than or equal to N.\n"
      ]
    },
    {
      "cell_type": "code",
      "metadata": {
        "colab": {
          "base_uri": "https://localhost:8080/"
        },
        "id": "06MTh71ewT3D",
        "outputId": "ec7d721f-944e-48f8-b7f7-042fbc7360eb"
      },
      "source": [
        "class Order():\n",
        "    def __init__(self):\n",
        "        self.orderIds = []  # log w/ data structure := list, i.e queue\n",
        "    \n",
        "    \n",
        "    def record(self, order_id):\n",
        "    # input: int order_id\n",
        "    # output: add order_id to the log\n",
        "        self.orderIds.append(order_id)\n",
        "    \n",
        "\n",
        "    def get_last(self, i):\n",
        "    # input: int i\n",
        "    # output: i-th last element from the log\n",
        "        return self.orderIds[len(self.orderIds) - 1 - i]\n",
        "\n",
        "\n",
        "if __name__ == \"__main__\":\n",
        "    eCommerceOrders = Order()\n",
        "    # add order ids\n",
        "    for i in range(1, 101):     # add log from 1 to 100\n",
        "        eCommerceOrders.record(i)\n",
        "    \n",
        "    print(eCommerceOrders.get_last(10))     # return 90\n",
        "    print(eCommerceOrders.get_last(50))     # return 50"
      ],
      "execution_count": 1,
      "outputs": [
        {
          "output_type": "stream",
          "name": "stdout",
          "text": [
            "90\n",
            "50\n"
          ]
        }
      ]
    },
    {
      "cell_type": "markdown",
      "metadata": {
        "id": "cjF9Hg-9wbYy"
      },
      "source": [
        ""
      ]
    }
  ]
}