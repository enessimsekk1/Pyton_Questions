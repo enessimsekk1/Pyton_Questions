{
  "nbformat": 4,
  "nbformat_minor": 0,
  "metadata": {
    "colab": {
      "name": "1.ipynb",
      "provenance": [],
      "collapsed_sections": []
    },
    "kernelspec": {
      "name": "python3",
      "display_name": "Python 3"
    },
    "language_info": {
      "name": "python"
    }
  },
  "cells": [
    {
      "cell_type": "code",
      "metadata": {
        "id": "rbsp500iDMG0"
      },
      "source": [
        "\"\"\"\n",
        "This problem was recently asked by Google.\n",
        "\n",
        "Given a list of numbers and a number k, return whether any two numbers from the list add up to k.\n",
        "\n",
        "For example, given [10, 15, 3, 7] and k of 17, return true since 10 + 7 is 17.\n",
        "\n",
        "\"\"\""
      ],
      "execution_count": null,
      "outputs": []
    },
    {
      "cell_type": "code",
      "metadata": {
        "id": "42cn8LTjD5ug"
      },
      "source": [
        "def sum_exists(numbers, target):\n",
        "    numbers_seen = set()\n",
        "    for number in numbers:\n",
        "        if target - number in numbers_seen:\n",
        "            return True\n",
        "        numbers_seen.add(number)\n",
        "    return False"
      ],
      "execution_count": 3,
      "outputs": []
    }
  ]
}